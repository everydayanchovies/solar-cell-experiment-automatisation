{
 "cells": [
  {
   "cell_type": "code",
   "execution_count": 8,
   "metadata": {
    "collapsed": true
   },
   "outputs": [
    {
     "name": "stdout",
     "output_type": "stream",
     "text": [
      "[[Variables]]\n",
      "    Il:  0.02042185 (init = 1e-12)\n",
      "    I0:  3.2923e-10 (init = 1e-06)\n",
      "    n:   10.0000000 (init = 10)\n",
      "    T:   400.000000 (init = 270)\n"
     ]
    },
    {
     "data": {
      "text/plain": "<Figure size 432x432 with 2 Axes>",
      "image/png": "[encoded data removed]"
     },
     "metadata": {
      "needs_background": "light"
     },
     "output_type": "display_data"
    },
    {
     "data": {
      "text/plain": "(0.020421845577859754, 3.2923092031401335e-10, 10.0, 399.99999964569884)"
     },
     "execution_count": 8,
     "metadata": {},
     "output_type": "execute_result"
    }
   ],
   "source": [
    "import lmfit\n",
    "import lmfit.printfuncs\n",
    "import numpy as np\n",
    "import pandas as pd\n",
    "from lmfit import Parameters\n",
    "from matplotlib import pyplot as plt\n",
    "\n",
    "df = pd.read_csv(\"~/Desktop/test3.csv\")\n",
    "\n",
    "\n",
    "def model_u_i_func(U, Il, I0, n, T):\n",
    "    e = 1.602E-19\n",
    "    k = 1.381E-23\n",
    "    return Il - I0 * (np.exp((e * U) / (n * k * T)) - 1)\n",
    "\n",
    "def fit_params_for_u_i(u, u_err, i, i_err):\n",
    "    m = lmfit.model.Model(model_u_i_func)\n",
    "\n",
    "    params = Parameters()\n",
    "    params.add(\"Il\", value=1E-12, min=1E-20, max=1)\n",
    "    params.add(\"I0\", value=1E-6, min=1E-20, max=1)\n",
    "    params.add(\"n\", value=10, min=10, max=15)\n",
    "    params.add(\"T\", value=270, min=250, max=400)\n",
    "\n",
    "    fit = m.fit(i, U=u, weights=1/i_err, params=params)\n",
    "    lmfit.printfuncs.report_fit(fit.params, min_correl=0.5)\n",
    "    fit.plot()\n",
    "    plt.show()\n",
    "    return fit.params[\"Il\"].value, fit.params[\"I0\"].value, fit.params[\"n\"].value, fit.params[\"T\"].value\n",
    "\n",
    "fit_params_for_u_i(df[\"U\"], df[\"U_err\"], df[\"I\"], df[\"I_err\"])\n"
   ]
  },
  {
   "cell_type": "code",
   "execution_count": 25,
   "outputs": [
    {
     "data": {
      "text/plain": "            U     U_err         I     I_err            R       R_err  \\\n0    5.873700  0.010180  0.001994  0.000265  3911.842119  488.491218   \n1    5.848575  0.009002  0.003059  0.000496  2488.006291  210.234304   \n2    5.833560  0.011829  0.004534  0.001211  2234.028396  258.158774   \n3    5.835975  0.011661  0.005561  0.001396  2047.013042  241.130704   \n4    5.845185  0.010617  0.003503  0.000684  2419.197024  236.587880   \n..        ...       ...       ...       ...          ...         ...   \n223  0.095325  0.006642  0.009576  0.000320    10.246063    0.840131   \n224  0.092940  0.005935  0.009644  0.000605    10.281188    0.817588   \n225  0.107895  0.005566  0.010226  0.001159    14.652076    2.898300   \n226  0.104565  0.010495  0.011394  0.001227    10.473518    1.241470   \n227  0.101640  0.006793  0.009539  0.000461    10.980293    0.837750   \n\n            P     P_err   V_out  \n0    0.011710  0.000119  1.6144  \n1    0.017888  0.000161  1.6522  \n2    0.026450  0.000315  1.6552  \n3    0.032452  0.000381  1.6582  \n4    0.020477  0.000218  1.6588  \n..        ...       ...     ...  \n223  0.000913  0.000006  1.8976  \n224  0.000896  0.000005  1.8982  \n225  0.001103  0.000006  1.8988  \n226  0.001191  0.000013  1.8994  \n227  0.000970  0.000007  1.9000  \n\n[228 rows x 9 columns]",
      "text/html": "<div>\n<style scoped>\n    .dataframe tbody tr th:only-of-type {\n        vertical-align: middle;\n    }\n\n    .dataframe tbody tr th {\n        vertical-align: top;\n    }\n\n    .dataframe thead th {\n        text-align: right;\n    }\n</style>\n<table border=\"1\" class=\"dataframe\">\n  <thead>\n    <tr style=\"text-align: right;\">\n      <th></th>\n      <th>U</th>\n      <th>U_err</th>\n      <th>I</th>\n      <th>I_err</th>\n      <th>R</th>\n      <th>R_err</th>\n      <th>P</th>\n      <th>P_err</th>\n      <th>V_out</th>\n    </tr>\n  </thead>\n  <tbody>\n    <tr>\n      <th>0</th>\n      <td>5.873700</td>\n      <td>0.010180</td>\n      <td>0.001994</td>\n      <td>0.000265</td>\n      <td>3911.842119</td>\n      <td>488.491218</td>\n      <td>0.011710</td>\n      <td>0.000119</td>\n      <td>1.6144</td>\n    </tr>\n    <tr>\n      <th>1</th>\n      <td>5.848575</td>\n      <td>0.009002</td>\n      <td>0.003059</td>\n      <td>0.000496</td>\n      <td>2488.006291</td>\n      <td>210.234304</td>\n      <td>0.017888</td>\n      <td>0.000161</td>\n      <td>1.6522</td>\n    </tr>\n    <tr>\n      <th>2</th>\n      <td>5.833560</td>\n      <td>0.011829</td>\n      <td>0.004534</td>\n      <td>0.001211</td>\n      <td>2234.028396</td>\n      <td>258.158774</td>\n      <td>0.026450</td>\n      <td>0.000315</td>\n      <td>1.6552</td>\n    </tr>\n    <tr>\n      <th>3</th>\n      <td>5.835975</td>\n      <td>0.011661</td>\n      <td>0.005561</td>\n      <td>0.001396</td>\n      <td>2047.013042</td>\n      <td>241.130704</td>\n      <td>0.032452</td>\n      <td>0.000381</td>\n      <td>1.6582</td>\n    </tr>\n    <tr>\n      <th>4</th>\n      <td>5.845185</td>\n      <td>0.010617</td>\n      <td>0.003503</td>\n      <td>0.000684</td>\n      <td>2419.197024</td>\n      <td>236.587880</td>\n      <td>0.020477</td>\n      <td>0.000218</td>\n      <td>1.6588</td>\n    </tr>\n    <tr>\n      <th>...</th>\n      <td>...</td>\n      <td>...</td>\n      <td>...</td>\n      <td>...</td>\n      <td>...</td>\n      <td>...</td>\n      <td>...</td>\n      <td>...</td>\n      <td>...</td>\n    </tr>\n    <tr>\n      <th>223</th>\n      <td>0.095325</td>\n      <td>0.006642</td>\n      <td>0.009576</td>\n      <td>0.000320</td>\n      <td>10.246063</td>\n      <td>0.840131</td>\n      <td>0.000913</td>\n      <td>0.000006</td>\n      <td>1.8976</td>\n    </tr>\n    <tr>\n      <th>224</th>\n      <td>0.092940</td>\n      <td>0.005935</td>\n      <td>0.009644</td>\n      <td>0.000605</td>\n      <td>10.281188</td>\n      <td>0.817588</td>\n      <td>0.000896</td>\n      <td>0.000005</td>\n      <td>1.8982</td>\n    </tr>\n    <tr>\n      <th>225</th>\n      <td>0.107895</td>\n      <td>0.005566</td>\n      <td>0.010226</td>\n      <td>0.001159</td>\n      <td>14.652076</td>\n      <td>2.898300</td>\n      <td>0.001103</td>\n      <td>0.000006</td>\n      <td>1.8988</td>\n    </tr>\n    <tr>\n      <th>226</th>\n      <td>0.104565</td>\n      <td>0.010495</td>\n      <td>0.011394</td>\n      <td>0.001227</td>\n      <td>10.473518</td>\n      <td>1.241470</td>\n      <td>0.001191</td>\n      <td>0.000013</td>\n      <td>1.8994</td>\n    </tr>\n    <tr>\n      <th>227</th>\n      <td>0.101640</td>\n      <td>0.006793</td>\n      <td>0.009539</td>\n      <td>0.000461</td>\n      <td>10.980293</td>\n      <td>0.837750</td>\n      <td>0.000970</td>\n      <td>0.000007</td>\n      <td>1.9000</td>\n    </tr>\n  </tbody>\n</table>\n<p>228 rows × 9 columns</p>\n</div>"
     },
     "execution_count": 25,
     "metadata": {},
     "output_type": "execute_result"
    }
   ],
   "source": [
    "df"
   ],
   "metadata": {
    "collapsed": false,
    "pycharm": {
     "name": "#%%\n"
    }
   }
  },
  {
   "cell_type": "code",
   "execution_count": 7,
   "outputs": [
    {
     "name": "stdout",
     "output_type": "stream",
     "text": [
      "2108.1849486442447\n"
     ]
    }
   ],
   "source": [],
   "metadata": {
    "collapsed": false,
    "pycharm": {
     "name": "#%%\n"
    }
   }
  },
  {
   "cell_type": "code",
   "execution_count": null,
   "outputs": [],
   "source": [],
   "metadata": {
    "collapsed": false,
    "pycharm": {
     "name": "#%%\n"
    }
   }
  }
 ],
 "metadata": {
  "kernelspec": {
   "display_name": "Python 3",
   "language": "python",
   "name": "python3"
  },
  "language_info": {
   "codemirror_mode": {
    "name": "ipython",
    "version": 2
   },
   "file_extension": ".py",
   "mimetype": "text/x-python",
   "name": "python",
   "nbconvert_exporter": "python",
   "pygments_lexer": "ipython2",
   "version": "2.7.6"
  }
 },
 "nbformat": 4,
 "nbformat_minor": 0
}